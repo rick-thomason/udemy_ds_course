{
 "cells": [
  {
   "cell_type": "markdown",
   "id": "d02a3f3d",
   "metadata": {},
   "source": [
    "# Plotting With Pandas (and matplotlib)"
   ]
  },
  {
   "cell_type": "code",
   "execution_count": 5,
   "id": "361e4e7f",
   "metadata": {},
   "outputs": [],
   "source": [
    "import pandas as pd\n",
    "import matplotlib.pyplot as plt"
   ]
  },
  {
   "cell_type": "code",
   "execution_count": 6,
   "id": "4bb14d32",
   "metadata": {},
   "outputs": [],
   "source": [
    "titanic = pd.read_csv(\"data/titanic.csv\")\n",
    "titanic[\"age\"] = pd.to_numeric(titanic[\"age\"], errors=\"coerce\")"
   ]
  },
  {
   "cell_type": "code",
   "execution_count": 7,
   "id": "1669378a",
   "metadata": {},
   "outputs": [],
   "source": [
    "houses = pd.read_csv(\"data/kc_house_data.csv\")"
   ]
  },
  {
   "cell_type": "code",
   "execution_count": 8,
   "id": "c84a9c27",
   "metadata": {},
   "outputs": [],
   "source": [
    "ufos = pd.read_csv(\"data/nuforc_reports.csv\", parse_dates=['date_time', \"posted\"])"
   ]
  },
  {
   "cell_type": "code",
   "execution_count": null,
   "id": "09737f90",
   "metadata": {},
   "outputs": [
    {
     "data": {
      "text/plain": [
       "['Solarize_Light2',\n",
       " '_classic_test_patch',\n",
       " '_mpl-gallery',\n",
       " '_mpl-gallery-nogrid',\n",
       " 'bmh',\n",
       " 'classic',\n",
       " 'dark_background',\n",
       " 'fast',\n",
       " 'fivethirtyeight',\n",
       " 'ggplot',\n",
       " 'grayscale',\n",
       " 'seaborn',\n",
       " 'seaborn-bright',\n",
       " 'seaborn-colorblind',\n",
       " 'seaborn-dark',\n",
       " 'seaborn-dark-palette',\n",
       " 'seaborn-darkgrid',\n",
       " 'seaborn-deep',\n",
       " 'seaborn-muted',\n",
       " 'seaborn-notebook',\n",
       " 'seaborn-paper',\n",
       " 'seaborn-pastel',\n",
       " 'seaborn-poster',\n",
       " 'seaborn-talk',\n",
       " 'seaborn-ticks',\n",
       " 'seaborn-white',\n",
       " 'seaborn-whitegrid',\n",
       " 'tableau-colorblind10']"
      ]
     },
     "metadata": {},
     "output_type": "display_data"
    }
   ],
   "source": [
    "plt.style.available"
   ]
  },
  {
   "cell_type": "code",
   "execution_count": 15,
   "id": "11ff90bd",
   "metadata": {},
   "outputs": [],
   "source": [
    "plt.style.use('seaborn-bright')"
   ]
  },
  {
   "cell_type": "code",
   "execution_count": 16,
   "id": "f12e744b",
   "metadata": {},
   "outputs": [
    {
     "data": {
      "text/plain": [
       "<AxesSubplot:>"
      ]
     },
     "execution_count": 16,
     "metadata": {},
     "output_type": "execute_result"
    },
    {
     "data": {
      "image/png": "[encoded data removed]",
      "text/plain": [
       "<Figure size 432x288 with 1 Axes>"
      ]
     },
     "metadata": {
      "needs_background": "light"
     },
     "output_type": "display_data"
    }
   ],
   "source": [
    "houses[['sqft_living', 'sqft_lot']].sort_values('sqft_living', ascending=False).head(10).plot(kind='bar')"
   ]
  },
  {
   "cell_type": "code",
   "execution_count": 26,
   "id": "15703de6",
   "metadata": {},
   "outputs": [
    {
     "data": {
      "text/plain": [
       "<AxesSubplot:title={'center':'Passengers By Sex'}>"
      ]
     },
     "execution_count": 26,
     "metadata": {},
     "output_type": "execute_result"
    },
    {
     "data": {
      "image/png": "[encoded data removed]",
      "text/plain": [
       "<Figure size 576x432 with 1 Axes>"
      ]
     },
     "metadata": {
      "needs_background": "light"
     },
     "output_type": "display_data"
    }
   ],
   "source": [
    "titanic['sex'].value_counts().plot(\n",
    "    kind='bar',\n",
    "    title='Passengers By Sex',\n",
    "    figsize=(8,6)\n",
    "    )"
   ]
  },
  {
   "cell_type": "code",
   "execution_count": 28,
   "id": "15703de6",
   "metadata": {},
   "outputs": [
    {
     "data": {
      "text/plain": [
       "Text(0.5, 1.0, 'Passengers By Sex')"
      ]
     },
     "execution_count": 28,
     "metadata": {},
     "output_type": "execute_result"
    },
    {
     "data": {
      "image/png": "[encoded data removed]",
      "text/plain": [
       "<Figure size 576x432 with 1 Axes>"
      ]
     },
     "metadata": {
      "needs_background": "light"
     },
     "output_type": "display_data"
    }
   ],
   "source": [
    "titanic['sex'].value_counts().plot(\n",
    "    kind='bar',\n",
    "    figsize=(8,6)\n",
    "    )\n",
    "plt.title('Passengers By Sex', fontsize=20)"
   ]
  },
  {
   "cell_type": "code",
   "execution_count": 29,
   "id": "edff7f46",
   "metadata": {},
   "outputs": [
    {
     "data": {
      "text/html": [
       "<div>\n",
       "<style scoped>\n",
       "    .dataframe tbody tr th:only-of-type {\n",
       "        vertical-align: middle;\n",
       "    }\n",
       "\n",
       "    .dataframe tbody tr th {\n",
       "        vertical-align: top;\n",
       "    }\n",
       "\n",
       "    .dataframe thead th {\n",
       "        text-align: right;\n",
       "    }\n",
       "</style>\n",
       "<table border=\"1\" class=\"dataframe\">\n",
       "  <thead>\n",
       "    <tr style=\"text-align: right;\">\n",
       "      <th></th>\n",
       "      <th>summary</th>\n",
       "      <th>city</th>\n",
       "      <th>state</th>\n",
       "      <th>date_time</th>\n",
       "      <th>shape</th>\n",
       "      <th>duration</th>\n",
       "      <th>stats</th>\n",
       "      <th>report_link</th>\n",
       "      <th>text</th>\n",
       "      <th>posted</th>\n",
       "      <th>city_latitude</th>\n",
       "      <th>city_longitude</th>\n",
       "    </tr>\n",
       "  </thead>\n",
       "  <tbody>\n",
       "    <tr>\n",
       "      <th>0</th>\n",
       "      <td>My wife was driving southeast on a fairly popu...</td>\n",
       "      <td>Chester</td>\n",
       "      <td>VA</td>\n",
       "      <td>2019-12-12 18:43:00</td>\n",
       "      <td>light</td>\n",
       "      <td>5 seconds</td>\n",
       "      <td>Occurred : 12/12/2019 18:43  (Entered as : 12/...</td>\n",
       "      <td>http://www.nuforc.org/webreports/151/S151739.html</td>\n",
       "      <td>My wife was driving southeast on a fairly popu...</td>\n",
       "      <td>2019-12-22</td>\n",
       "      <td>37.343152</td>\n",
       "      <td>-77.408582</td>\n",
       "    </tr>\n",
       "    <tr>\n",
       "      <th>1</th>\n",
       "      <td>I think that I may caught a UFO on the NBC Nig...</td>\n",
       "      <td>Rocky Hill</td>\n",
       "      <td>CT</td>\n",
       "      <td>2019-03-22 18:30:00</td>\n",
       "      <td>circle</td>\n",
       "      <td>3-5 seconds</td>\n",
       "      <td>Occurred : 3/22/2019 18:30  (Entered as : 03/2...</td>\n",
       "      <td>http://www.nuforc.org/webreports/145/S145297.html</td>\n",
       "      <td>I think that I may caught a UFO on the NBC Nig...</td>\n",
       "      <td>2019-03-29</td>\n",
       "      <td>41.664800</td>\n",
       "      <td>-72.639300</td>\n",
       "    </tr>\n",
       "    <tr>\n",
       "      <th>2</th>\n",
       "      <td>I woke up late in the afternoon 3:30-4pm. I we...</td>\n",
       "      <td>NaN</td>\n",
       "      <td>NaN</td>\n",
       "      <td>NaT</td>\n",
       "      <td>NaN</td>\n",
       "      <td>NaN</td>\n",
       "      <td>Occurred : 4/1/2019 15:45  (Entered as : April...</td>\n",
       "      <td>http://www.nuforc.org/webreports/145/S145556.html</td>\n",
       "      <td>I woke up late in the afternoon 3:30-4pm.  I w...</td>\n",
       "      <td>NaT</td>\n",
       "      <td>NaN</td>\n",
       "      <td>NaN</td>\n",
       "    </tr>\n",
       "    <tr>\n",
       "      <th>3</th>\n",
       "      <td>I was driving towards the intersection of fall...</td>\n",
       "      <td>Ottawa</td>\n",
       "      <td>ON</td>\n",
       "      <td>2019-04-17 02:00:00</td>\n",
       "      <td>teardrop</td>\n",
       "      <td>10 seconds</td>\n",
       "      <td>Occurred : 4/17/2019 02:00  (Entered as : 04-1...</td>\n",
       "      <td>http://www.nuforc.org/webreports/145/S145697.html</td>\n",
       "      <td>I was driving towards the intersection of fall...</td>\n",
       "      <td>2019-04-18</td>\n",
       "      <td>45.381383</td>\n",
       "      <td>-75.708501</td>\n",
       "    </tr>\n",
       "    <tr>\n",
       "      <th>4</th>\n",
       "      <td>In Peoria Arizona, I saw a cigar shaped craft ...</td>\n",
       "      <td>Peoria</td>\n",
       "      <td>NY</td>\n",
       "      <td>2009-03-15 18:00:00</td>\n",
       "      <td>cigar</td>\n",
       "      <td>2 minutes</td>\n",
       "      <td>Occurred : 3/15/2009 18:00  (Entered as : 03/1...</td>\n",
       "      <td>http://www.nuforc.org/webreports/145/S145723.html</td>\n",
       "      <td>In Peoria, Arizona, I saw a cigar shaped craft...</td>\n",
       "      <td>2019-04-18</td>\n",
       "      <td>NaN</td>\n",
       "      <td>NaN</td>\n",
       "    </tr>\n",
       "  </tbody>\n",
       "</table>\n",
       "</div>"
      ],
      "text/plain": [
       "                                             summary        city state  \\\n",
       "0  My wife was driving southeast on a fairly popu...     Chester    VA   \n",
       "1  I think that I may caught a UFO on the NBC Nig...  Rocky Hill    CT   \n",
       "2  I woke up late in the afternoon 3:30-4pm. I we...         NaN   NaN   \n",
       "3  I was driving towards the intersection of fall...      Ottawa    ON   \n",
       "4  In Peoria Arizona, I saw a cigar shaped craft ...      Peoria    NY   \n",
       "\n",
       "            date_time     shape     duration  \\\n",
       "0 2019-12-12 18:43:00     light    5 seconds   \n",
       "1 2019-03-22 18:30:00    circle  3-5 seconds   \n",
       "2                 NaT       NaN          NaN   \n",
       "3 2019-04-17 02:00:00  teardrop   10 seconds   \n",
       "4 2009-03-15 18:00:00     cigar    2 minutes   \n",
       "\n",
       "                                               stats  \\\n",
       "0  Occurred : 12/12/2019 18:43  (Entered as : 12/...   \n",
       "1  Occurred : 3/22/2019 18:30  (Entered as : 03/2...   \n",
       "2  Occurred : 4/1/2019 15:45  (Entered as : April...   \n",
       "3  Occurred : 4/17/2019 02:00  (Entered as : 04-1...   \n",
       "4  Occurred : 3/15/2009 18:00  (Entered as : 03/1...   \n",
       "\n",
       "                                         report_link  \\\n",
       "0  http://www.nuforc.org/webreports/151/S151739.html   \n",
       "1  http://www.nuforc.org/webreports/145/S145297.html   \n",
       "2  http://www.nuforc.org/webreports/145/S145556.html   \n",
       "3  http://www.nuforc.org/webreports/145/S145697.html   \n",
       "4  http://www.nuforc.org/webreports/145/S145723.html   \n",
       "\n",
       "                                                text     posted  \\\n",
       "0  My wife was driving southeast on a fairly popu... 2019-12-22   \n",
       "1  I think that I may caught a UFO on the NBC Nig... 2019-03-29   \n",
       "2  I woke up late in the afternoon 3:30-4pm.  I w...        NaT   \n",
       "3  I was driving towards the intersection of fall... 2019-04-18   \n",
       "4  In Peoria, Arizona, I saw a cigar shaped craft... 2019-04-18   \n",
       "\n",
       "   city_latitude  city_longitude  \n",
       "0      37.343152      -77.408582  \n",
       "1      41.664800      -72.639300  \n",
       "2            NaN             NaN  \n",
       "3      45.381383      -75.708501  \n",
       "4            NaN             NaN  "
      ]
     },
     "execution_count": 29,
     "metadata": {},
     "output_type": "execute_result"
    }
   ],
   "source": [
    "ufos.head()"
   ]
  },
  {
   "cell_type": "code",
   "execution_count": 30,
   "id": "6ad8da61",
   "metadata": {},
   "outputs": [],
   "source": [
    "ufos['month'] = ufos['date_time'].dt.month"
   ]
  },
  {
   "cell_type": "code",
   "execution_count": 31,
   "id": "342b89a9",
   "metadata": {},
   "outputs": [
    {
     "data": {
      "text/html": [
       "<div>\n",
       "<style scoped>\n",
       "    .dataframe tbody tr th:only-of-type {\n",
       "        vertical-align: middle;\n",
       "    }\n",
       "\n",
       "    .dataframe tbody tr th {\n",
       "        vertical-align: top;\n",
       "    }\n",
       "\n",
       "    .dataframe thead th {\n",
       "        text-align: right;\n",
       "    }\n",
       "</style>\n",
       "<table border=\"1\" class=\"dataframe\">\n",
       "  <thead>\n",
       "    <tr style=\"text-align: right;\">\n",
       "      <th></th>\n",
       "      <th>summary</th>\n",
       "      <th>city</th>\n",
       "      <th>state</th>\n",
       "      <th>date_time</th>\n",
       "      <th>shape</th>\n",
       "      <th>duration</th>\n",
       "      <th>stats</th>\n",
       "      <th>report_link</th>\n",
       "      <th>text</th>\n",
       "      <th>posted</th>\n",
       "      <th>city_latitude</th>\n",
       "      <th>city_longitude</th>\n",
       "      <th>month</th>\n",
       "    </tr>\n",
       "  </thead>\n",
       "  <tbody>\n",
       "    <tr>\n",
       "      <th>0</th>\n",
       "      <td>My wife was driving southeast on a fairly popu...</td>\n",
       "      <td>Chester</td>\n",
       "      <td>VA</td>\n",
       "      <td>2019-12-12 18:43:00</td>\n",
       "      <td>light</td>\n",
       "      <td>5 seconds</td>\n",
       "      <td>Occurred : 12/12/2019 18:43  (Entered as : 12/...</td>\n",
       "      <td>http://www.nuforc.org/webreports/151/S151739.html</td>\n",
       "      <td>My wife was driving southeast on a fairly popu...</td>\n",
       "      <td>2019-12-22</td>\n",
       "      <td>37.343152</td>\n",
       "      <td>-77.408582</td>\n",
       "      <td>12.0</td>\n",
       "    </tr>\n",
       "    <tr>\n",
       "      <th>1</th>\n",
       "      <td>I think that I may caught a UFO on the NBC Nig...</td>\n",
       "      <td>Rocky Hill</td>\n",
       "      <td>CT</td>\n",
       "      <td>2019-03-22 18:30:00</td>\n",
       "      <td>circle</td>\n",
       "      <td>3-5 seconds</td>\n",
       "      <td>Occurred : 3/22/2019 18:30  (Entered as : 03/2...</td>\n",
       "      <td>http://www.nuforc.org/webreports/145/S145297.html</td>\n",
       "      <td>I think that I may caught a UFO on the NBC Nig...</td>\n",
       "      <td>2019-03-29</td>\n",
       "      <td>41.664800</td>\n",
       "      <td>-72.639300</td>\n",
       "      <td>3.0</td>\n",
       "    </tr>\n",
       "    <tr>\n",
       "      <th>2</th>\n",
       "      <td>I woke up late in the afternoon 3:30-4pm. I we...</td>\n",
       "      <td>NaN</td>\n",
       "      <td>NaN</td>\n",
       "      <td>NaT</td>\n",
       "      <td>NaN</td>\n",
       "      <td>NaN</td>\n",
       "      <td>Occurred : 4/1/2019 15:45  (Entered as : April...</td>\n",
       "      <td>http://www.nuforc.org/webreports/145/S145556.html</td>\n",
       "      <td>I woke up late in the afternoon 3:30-4pm.  I w...</td>\n",
       "      <td>NaT</td>\n",
       "      <td>NaN</td>\n",
       "      <td>NaN</td>\n",
       "      <td>NaN</td>\n",
       "    </tr>\n",
       "    <tr>\n",
       "      <th>3</th>\n",
       "      <td>I was driving towards the intersection of fall...</td>\n",
       "      <td>Ottawa</td>\n",
       "      <td>ON</td>\n",
       "      <td>2019-04-17 02:00:00</td>\n",
       "      <td>teardrop</td>\n",
       "      <td>10 seconds</td>\n",
       "      <td>Occurred : 4/17/2019 02:00  (Entered as : 04-1...</td>\n",
       "      <td>http://www.nuforc.org/webreports/145/S145697.html</td>\n",
       "      <td>I was driving towards the intersection of fall...</td>\n",
       "      <td>2019-04-18</td>\n",
       "      <td>45.381383</td>\n",
       "      <td>-75.708501</td>\n",
       "      <td>4.0</td>\n",
       "    </tr>\n",
       "    <tr>\n",
       "      <th>4</th>\n",
       "      <td>In Peoria Arizona, I saw a cigar shaped craft ...</td>\n",
       "      <td>Peoria</td>\n",
       "      <td>NY</td>\n",
       "      <td>2009-03-15 18:00:00</td>\n",
       "      <td>cigar</td>\n",
       "      <td>2 minutes</td>\n",
       "      <td>Occurred : 3/15/2009 18:00  (Entered as : 03/1...</td>\n",
       "      <td>http://www.nuforc.org/webreports/145/S145723.html</td>\n",
       "      <td>In Peoria, Arizona, I saw a cigar shaped craft...</td>\n",
       "      <td>2019-04-18</td>\n",
       "      <td>NaN</td>\n",
       "      <td>NaN</td>\n",
       "      <td>3.0</td>\n",
       "    </tr>\n",
       "  </tbody>\n",
       "</table>\n",
       "</div>"
      ],
      "text/plain": [
       "                                             summary        city state  \\\n",
       "0  My wife was driving southeast on a fairly popu...     Chester    VA   \n",
       "1  I think that I may caught a UFO on the NBC Nig...  Rocky Hill    CT   \n",
       "2  I woke up late in the afternoon 3:30-4pm. I we...         NaN   NaN   \n",
       "3  I was driving towards the intersection of fall...      Ottawa    ON   \n",
       "4  In Peoria Arizona, I saw a cigar shaped craft ...      Peoria    NY   \n",
       "\n",
       "            date_time     shape     duration  \\\n",
       "0 2019-12-12 18:43:00     light    5 seconds   \n",
       "1 2019-03-22 18:30:00    circle  3-5 seconds   \n",
       "2                 NaT       NaN          NaN   \n",
       "3 2019-04-17 02:00:00  teardrop   10 seconds   \n",
       "4 2009-03-15 18:00:00     cigar    2 minutes   \n",
       "\n",
       "                                               stats  \\\n",
       "0  Occurred : 12/12/2019 18:43  (Entered as : 12/...   \n",
       "1  Occurred : 3/22/2019 18:30  (Entered as : 03/2...   \n",
       "2  Occurred : 4/1/2019 15:45  (Entered as : April...   \n",
       "3  Occurred : 4/17/2019 02:00  (Entered as : 04-1...   \n",
       "4  Occurred : 3/15/2009 18:00  (Entered as : 03/1...   \n",
       "\n",
       "                                         report_link  \\\n",
       "0  http://www.nuforc.org/webreports/151/S151739.html   \n",
       "1  http://www.nuforc.org/webreports/145/S145297.html   \n",
       "2  http://www.nuforc.org/webreports/145/S145556.html   \n",
       "3  http://www.nuforc.org/webreports/145/S145697.html   \n",
       "4  http://www.nuforc.org/webreports/145/S145723.html   \n",
       "\n",
       "                                                text     posted  \\\n",
       "0  My wife was driving southeast on a fairly popu... 2019-12-22   \n",
       "1  I think that I may caught a UFO on the NBC Nig... 2019-03-29   \n",
       "2  I woke up late in the afternoon 3:30-4pm.  I w...        NaT   \n",
       "3  I was driving towards the intersection of fall... 2019-04-18   \n",
       "4  In Peoria, Arizona, I saw a cigar shaped craft... 2019-04-18   \n",
       "\n",
       "   city_latitude  city_longitude  month  \n",
       "0      37.343152      -77.408582   12.0  \n",
       "1      41.664800      -72.639300    3.0  \n",
       "2            NaN             NaN    NaN  \n",
       "3      45.381383      -75.708501    4.0  \n",
       "4            NaN             NaN    3.0  "
      ]
     },
     "execution_count": 31,
     "metadata": {},
     "output_type": "execute_result"
    }
   ],
   "source": [
    "ufos.head()"
   ]
  },
  {
   "cell_type": "code",
   "execution_count": 37,
   "id": "bfd1f997",
   "metadata": {},
   "outputs": [
    {
     "data": {
      "image/png": "[encoded data removed]",
      "text/plain": [
       "<Figure size 432x288 with 1 Axes>"
      ]
     },
     "metadata": {
      "needs_background": "light"
     },
     "output_type": "display_data"
    }
   ],
   "source": [
    "sightings = ufos.month.value_counts().sort_index()\n",
    "sightings.plot(kind='bar', title='UFO Sightings By Month')\n",
    "plt.show()"
   ]
  },
  {
   "cell_type": "code",
   "execution_count": 40,
   "id": "2dbbad28",
   "metadata": {},
   "outputs": [],
   "source": [
    "months_dict = {1: \"Jan\", 2: \"Feb\", 3: \"Mar\", 4: \"Apr\", 5: \"May\", 6: \"Jun\", 7:\"Jul\", 8: \"Aug\", 9:\"Sep\", 10: \"Oct\", 11: \"Nov\", 12: \"Dec\"}\n",
    "sightings.rename(months_dict, inplace=True)"
   ]
  },
  {
   "cell_type": "code",
   "execution_count": 49,
   "id": "094a8007",
   "metadata": {},
   "outputs": [
    {
     "data": {
      "image/png": "[encoded data removed]",
      "text/plain": [
       "<Figure size 432x288 with 1 Axes>"
      ]
     },
     "metadata": {
      "needs_background": "light"
     },
     "output_type": "display_data"
    }
   ],
   "source": [
    "sightings.plot(kind='bar',\n",
    "xlabel='Month',\n",
    "ylabel='Number of Sightings',\n",
    "fontsize=15)\n",
    "plt.title('UFO Sightings By Month',fontsize=30)\n",
    "plt.show()"
   ]
  },
  {
   "cell_type": "code",
   "execution_count": 55,
   "id": "a74aa9fa",
   "metadata": {},
   "outputs": [],
   "source": [
    "salaries = pd.read_csv('data/Salaries.csv', low_memory=False)\n",
    "salaries.columns = [x.lower() for x in salaries.columns]"
   ]
  },
  {
   "cell_type": "code",
   "execution_count": 56,
   "id": "5225c40a",
   "metadata": {},
   "outputs": [
    {
     "data": {
      "text/html": [
       "<div>\n",
       "<style scoped>\n",
       "    .dataframe tbody tr th:only-of-type {\n",
       "        vertical-align: middle;\n",
       "    }\n",
       "\n",
       "    .dataframe tbody tr th {\n",
       "        vertical-align: top;\n",
       "    }\n",
       "\n",
       "    .dataframe thead th {\n",
       "        text-align: right;\n",
       "    }\n",
       "</style>\n",
       "<table border=\"1\" class=\"dataframe\">\n",
       "  <thead>\n",
       "    <tr style=\"text-align: right;\">\n",
       "      <th></th>\n",
       "      <th>id</th>\n",
       "      <th>employeename</th>\n",
       "      <th>jobtitle</th>\n",
       "      <th>basepay</th>\n",
       "      <th>overtimepay</th>\n",
       "      <th>otherpay</th>\n",
       "      <th>benefits</th>\n",
       "      <th>totalpay</th>\n",
       "      <th>totalpaybenefits</th>\n",
       "      <th>year</th>\n",
       "      <th>notes</th>\n",
       "      <th>agency</th>\n",
       "      <th>status</th>\n",
       "    </tr>\n",
       "  </thead>\n",
       "  <tbody>\n",
       "    <tr>\n",
       "      <th>0</th>\n",
       "      <td>1</td>\n",
       "      <td>NATHANIEL FORD</td>\n",
       "      <td>GENERAL MANAGER-METROPOLITAN TRANSIT AUTHORITY</td>\n",
       "      <td>167411.18</td>\n",
       "      <td>0.0</td>\n",
       "      <td>400184.25</td>\n",
       "      <td>NaN</td>\n",
       "      <td>567595.43</td>\n",
       "      <td>567595.43</td>\n",
       "      <td>2011</td>\n",
       "      <td>NaN</td>\n",
       "      <td>San Francisco</td>\n",
       "      <td>NaN</td>\n",
       "    </tr>\n",
       "    <tr>\n",
       "      <th>1</th>\n",
       "      <td>2</td>\n",
       "      <td>GARY JIMENEZ</td>\n",
       "      <td>CAPTAIN III (POLICE DEPARTMENT)</td>\n",
       "      <td>155966.02</td>\n",
       "      <td>245131.88</td>\n",
       "      <td>137811.38</td>\n",
       "      <td>NaN</td>\n",
       "      <td>538909.28</td>\n",
       "      <td>538909.28</td>\n",
       "      <td>2011</td>\n",
       "      <td>NaN</td>\n",
       "      <td>San Francisco</td>\n",
       "      <td>NaN</td>\n",
       "    </tr>\n",
       "    <tr>\n",
       "      <th>2</th>\n",
       "      <td>3</td>\n",
       "      <td>ALBERT PARDINI</td>\n",
       "      <td>CAPTAIN III (POLICE DEPARTMENT)</td>\n",
       "      <td>212739.13</td>\n",
       "      <td>106088.18</td>\n",
       "      <td>16452.6</td>\n",
       "      <td>NaN</td>\n",
       "      <td>335279.91</td>\n",
       "      <td>335279.91</td>\n",
       "      <td>2011</td>\n",
       "      <td>NaN</td>\n",
       "      <td>San Francisco</td>\n",
       "      <td>NaN</td>\n",
       "    </tr>\n",
       "    <tr>\n",
       "      <th>3</th>\n",
       "      <td>4</td>\n",
       "      <td>CHRISTOPHER CHONG</td>\n",
       "      <td>WIRE ROPE CABLE MAINTENANCE MECHANIC</td>\n",
       "      <td>77916.0</td>\n",
       "      <td>56120.71</td>\n",
       "      <td>198306.9</td>\n",
       "      <td>NaN</td>\n",
       "      <td>332343.61</td>\n",
       "      <td>332343.61</td>\n",
       "      <td>2011</td>\n",
       "      <td>NaN</td>\n",
       "      <td>San Francisco</td>\n",
       "      <td>NaN</td>\n",
       "    </tr>\n",
       "    <tr>\n",
       "      <th>4</th>\n",
       "      <td>5</td>\n",
       "      <td>PATRICK GARDNER</td>\n",
       "      <td>DEPUTY CHIEF OF DEPARTMENT,(FIRE DEPARTMENT)</td>\n",
       "      <td>134401.6</td>\n",
       "      <td>9737.0</td>\n",
       "      <td>182234.59</td>\n",
       "      <td>NaN</td>\n",
       "      <td>326373.19</td>\n",
       "      <td>326373.19</td>\n",
       "      <td>2011</td>\n",
       "      <td>NaN</td>\n",
       "      <td>San Francisco</td>\n",
       "      <td>NaN</td>\n",
       "    </tr>\n",
       "  </tbody>\n",
       "</table>\n",
       "</div>"
      ],
      "text/plain": [
       "   id       employeename                                        jobtitle  \\\n",
       "0   1     NATHANIEL FORD  GENERAL MANAGER-METROPOLITAN TRANSIT AUTHORITY   \n",
       "1   2       GARY JIMENEZ                 CAPTAIN III (POLICE DEPARTMENT)   \n",
       "2   3     ALBERT PARDINI                 CAPTAIN III (POLICE DEPARTMENT)   \n",
       "3   4  CHRISTOPHER CHONG            WIRE ROPE CABLE MAINTENANCE MECHANIC   \n",
       "4   5    PATRICK GARDNER    DEPUTY CHIEF OF DEPARTMENT,(FIRE DEPARTMENT)   \n",
       "\n",
       "     basepay overtimepay   otherpay benefits   totalpay  totalpaybenefits  \\\n",
       "0  167411.18         0.0  400184.25      NaN  567595.43         567595.43   \n",
       "1  155966.02   245131.88  137811.38      NaN  538909.28         538909.28   \n",
       "2  212739.13   106088.18    16452.6      NaN  335279.91         335279.91   \n",
       "3    77916.0    56120.71   198306.9      NaN  332343.61         332343.61   \n",
       "4   134401.6      9737.0  182234.59      NaN  326373.19         326373.19   \n",
       "\n",
       "   year  notes         agency status  \n",
       "0  2011    NaN  San Francisco    NaN  \n",
       "1  2011    NaN  San Francisco    NaN  \n",
       "2  2011    NaN  San Francisco    NaN  \n",
       "3  2011    NaN  San Francisco    NaN  \n",
       "4  2011    NaN  San Francisco    NaN  "
      ]
     },
     "execution_count": 56,
     "metadata": {},
     "output_type": "execute_result"
    }
   ],
   "source": [
    "salaries.head()"
   ]
  },
  {
   "cell_type": "code",
   "execution_count": 57,
   "id": "f5934d8e",
   "metadata": {},
   "outputs": [
    {
     "name": "stdout",
     "output_type": "stream",
     "text": [
      "<class 'pandas.core.frame.DataFrame'>\n",
      "RangeIndex: 148654 entries, 0 to 148653\n",
      "Data columns (total 13 columns):\n",
      " #   Column            Non-Null Count   Dtype  \n",
      "---  ------            --------------   -----  \n",
      " 0   id                148654 non-null  int64  \n",
      " 1   employeename      148654 non-null  object \n",
      " 2   jobtitle          148654 non-null  object \n",
      " 3   basepay           148049 non-null  object \n",
      " 4   overtimepay       148654 non-null  object \n",
      " 5   otherpay          148654 non-null  object \n",
      " 6   benefits          112495 non-null  object \n",
      " 7   totalpay          148654 non-null  float64\n",
      " 8   totalpaybenefits  148654 non-null  float64\n",
      " 9   year              148654 non-null  int64  \n",
      " 10  notes             0 non-null       float64\n",
      " 11  agency            148654 non-null  object \n",
      " 12  status            38119 non-null   object \n",
      "dtypes: float64(3), int64(2), object(8)\n",
      "memory usage: 14.7+ MB\n"
     ]
    }
   ],
   "source": [
    "salaries.info()"
   ]
  },
  {
   "cell_type": "code",
   "execution_count": 60,
   "id": "d105df73",
   "metadata": {},
   "outputs": [
    {
     "name": "stdout",
     "output_type": "stream",
     "text": [
      "<class 'pandas.core.frame.DataFrame'>\n",
      "RangeIndex: 148654 entries, 0 to 148653\n",
      "Data columns (total 13 columns):\n",
      " #   Column            Non-Null Count   Dtype  \n",
      "---  ------            --------------   -----  \n",
      " 0   id                148654 non-null  int64  \n",
      " 1   employeename      148654 non-null  object \n",
      " 2   jobtitle          148654 non-null  object \n",
      " 3   basepay           148654 non-null  float64\n",
      " 4   overtimepay       148654 non-null  float64\n",
      " 5   otherpay          148654 non-null  float64\n",
      " 6   benefits          112495 non-null  object \n",
      " 7   totalpay          148654 non-null  float64\n",
      " 8   totalpaybenefits  148654 non-null  float64\n",
      " 9   year              148654 non-null  int64  \n",
      " 10  notes             0 non-null       float64\n",
      " 11  agency            148654 non-null  object \n",
      " 12  status            38119 non-null   object \n",
      "dtypes: float64(6), int64(2), object(5)\n",
      "memory usage: 14.7+ MB\n"
     ]
    }
   ],
   "source": [
    "salaries['basepay'] = pd.to_numeric(salaries['basepay'], errors='coerce').fillna(0)\n",
    "salaries['overtimepay'] = pd.to_numeric(salaries['overtimepay'], errors='coerce').fillna(0)\n",
    "salaries['otherpay'] = pd.to_numeric(salaries['otherpay'], errors='coerce').fillna(0)\n",
    "salaries.info()"
   ]
  },
  {
   "cell_type": "code",
   "execution_count": 62,
   "id": "2a36cb7e",
   "metadata": {},
   "outputs": [],
   "source": [
    "df = salaries[['employeename', 'basepay', 'overtimepay', 'otherpay']]"
   ]
  },
  {
   "cell_type": "code",
   "execution_count": null,
   "id": "2d3a5ffd",
   "metadata": {},
   "outputs": [],
   "source": [
    "df.set_index('employeename')"
   ]
  },
  {
   "cell_type": "code",
   "execution_count": 75,
   "id": "a612c712",
   "metadata": {},
   "outputs": [
    {
     "data": {
      "image/png": "[encoded data removed]",
      "text/plain": [
       "<Figure size 432x288 with 1 Axes>"
      ]
     },
     "metadata": {
      "needs_background": "light"
     },
     "output_type": "display_data"
    }
   ],
   "source": [
    "df.head(10).plot(kind='bar')\n",
    "plt.show()"
   ]
  },
  {
   "cell_type": "code",
   "execution_count": 73,
   "id": "5e6ca483",
   "metadata": {},
   "outputs": [
    {
     "data": {
      "image/png": "[encoded data removed]",
      "text/plain": [
       "<Figure size 432x288 with 1 Axes>"
      ]
     },
     "metadata": {
      "needs_background": "light"
     },
     "output_type": "display_data"
    }
   ],
   "source": [
    "df.head(10).plot.bar(stacked=True)\n",
    "plt.show()"
   ]
  },
  {
   "cell_type": "code",
   "execution_count": 83,
   "id": "9891cc28",
   "metadata": {},
   "outputs": [
    {
     "data": {
      "text/plain": [
       "<AxesSubplot:title={'center':'Salaries'}, xlabel='Employee Name', ylabel='Base Pay'>"
      ]
     },
     "execution_count": 83,
     "metadata": {},
     "output_type": "execute_result"
    },
    {
     "data": {
      "image/png": "[encoded data removed]",
      "text/plain": [
       "<Figure size 432x288 with 1 Axes>"
      ]
     },
     "metadata": {
      "needs_background": "light"
     },
     "output_type": "display_data"
    }
   ],
   "source": [
    "df['basepay'].sort_values(ascending=False).head().plot.bar(ylabel='Base Pay', xlabel='Employee Name', title='Salaries')"
   ]
  },
  {
   "cell_type": "code",
   "execution_count": 101,
   "id": "94124775",
   "metadata": {},
   "outputs": [
    {
     "data": {
      "image/png": "[encoded data removed]",
      "text/plain": [
       "<Figure size 720x360 with 1 Axes>"
      ]
     },
     "metadata": {
      "needs_background": "light"
     },
     "output_type": "display_data"
    }
   ],
   "source": [
    "df.sort_values('overtimepay', ascending=False).head().plot.barh(stacked=True, figsize=(10,5))\n",
    "plt.title('Highest Paid Employees', fontsize=20)\n",
    "plt.xlabel('Dollars', fontsize=15)\n",
    "plt.ylabel('Employee', fontsize=15)\n",
    "plt.show()"
   ]
  },
  {
   "cell_type": "code",
   "execution_count": 110,
   "id": "fc284308",
   "metadata": {},
   "outputs": [
    {
     "data": {
      "image/png": "[encoded data removed]",
      "text/plain": [
       "<Figure size 720x576 with 1 Axes>"
      ]
     },
     "metadata": {
      "needs_background": "light"
     },
     "output_type": "display_data"
    }
   ],
   "source": [
    "df['basepay'].plot.hist(bins=200, figsize=(10,8))\n",
    "plt.show()"
   ]
  },
  {
   "cell_type": "code",
   "execution_count": 116,
   "id": "73e40108",
   "metadata": {},
   "outputs": [
    {
     "data": {
      "image/png": "[encoded data removed]",
      "text/plain": [
       "<Figure size 1152x576 with 4 Axes>"
      ]
     },
     "metadata": {
      "needs_background": "light"
     },
     "output_type": "display_data"
    }
   ],
   "source": [
    "df.hist(figsize=(16,8))\n",
    "plt.show()"
   ]
  },
  {
   "cell_type": "markdown",
   "id": "dece2e23",
   "metadata": {},
   "source": [
    "## Box Plots"
   ]
  },
  {
   "cell_type": "code",
   "execution_count": 120,
   "id": "2e14b3c6",
   "metadata": {},
   "outputs": [
    {
     "data": {
      "image/png": "[encoded data removed]",
      "text/plain": [
       "<Figure size 1008x432 with 1 Axes>"
      ]
     },
     "metadata": {
      "needs_background": "light"
     },
     "output_type": "display_data"
    }
   ],
   "source": [
    "df.plot.box(figsize=(14,6))\n",
    "plt.show()"
   ]
  },
  {
   "cell_type": "code",
   "execution_count": 128,
   "id": "747e3bb4",
   "metadata": {},
   "outputs": [
    {
     "data": {
      "text/plain": [
       "33       1\n",
       "11       1\n",
       "10       3\n",
       "9        6\n",
       "8       13\n",
       "7       38\n",
       "6      272\n",
       "5     1601\n",
       "4     6882\n",
       "3     9824\n",
       "2     2760\n",
       "1      199\n",
       "0       13\n",
       "Name: bedrooms, dtype: int64"
      ]
     },
     "execution_count": 128,
     "metadata": {},
     "output_type": "execute_result"
    }
   ],
   "source": [
    "houses.bedrooms.value_counts().sort_index(ascending=False)"
   ]
  },
  {
   "cell_type": "code",
   "execution_count": 130,
   "id": "1a90b8bc",
   "metadata": {},
   "outputs": [
    {
     "data": {
      "text/plain": [
       "<AxesSubplot:>"
      ]
     },
     "execution_count": 130,
     "metadata": {},
     "output_type": "execute_result"
    },
    {
     "data": {
      "image/png": "[encoded data removed]",
      "text/plain": [
       "<Figure size 576x576 with 1 Axes>"
      ]
     },
     "metadata": {
      "needs_background": "light"
     },
     "output_type": "display_data"
    }
   ],
   "source": [
    "houses.bedrooms.plot.box(figsize=(8,8))"
   ]
  },
  {
   "cell_type": "code",
   "execution_count": 131,
   "id": "49252618",
   "metadata": {},
   "outputs": [
    {
     "data": {
      "text/plain": [
       "<AxesSubplot:>"
      ]
     },
     "execution_count": 131,
     "metadata": {},
     "output_type": "execute_result"
    },
    {
     "data": {
      "image/png": "[encoded data removed]",
      "text/plain": [
       "<Figure size 576x576 with 1 Axes>"
      ]
     },
     "metadata": {
      "needs_background": "light"
     },
     "output_type": "display_data"
    }
   ],
   "source": [
    "houses.bedrooms.plot.box(figsize=(8,8), showfliers=False)"
   ]
  },
  {
   "cell_type": "markdown",
   "id": "12a7ce99",
   "metadata": {},
   "source": [
    "## Line Plots"
   ]
  },
  {
   "cell_type": "code",
   "execution_count": 134,
   "id": "19f5d0b3",
   "metadata": {},
   "outputs": [
    {
     "name": "stdout",
     "output_type": "stream",
     "text": [
      "<class 'pandas.core.frame.DataFrame'>\n",
      "RangeIndex: 88125 entries, 0 to 88124\n",
      "Data columns (total 14 columns):\n",
      " #   Column          Non-Null Count  Dtype         \n",
      "---  ------          --------------  -----         \n",
      " 0   summary         88095 non-null  object        \n",
      " 1   city            87891 non-null  object        \n",
      " 2   state           82890 non-null  object        \n",
      " 3   date_time       86938 non-null  datetime64[ns]\n",
      " 4   shape           85627 non-null  object        \n",
      " 5   duration        84954 non-null  object        \n",
      " 6   stats           88088 non-null  object        \n",
      " 7   report_link     88125 non-null  object        \n",
      " 8   text            88070 non-null  object        \n",
      " 9   posted          86938 non-null  datetime64[ns]\n",
      " 10  city_latitude   72013 non-null  float64       \n",
      " 11  city_longitude  72013 non-null  float64       \n",
      " 12  month           86938 non-null  float64       \n",
      " 13  year            86938 non-null  float64       \n",
      "dtypes: datetime64[ns](2), float64(4), object(8)\n",
      "memory usage: 9.4+ MB\n"
     ]
    }
   ],
   "source": [
    "ufos['year'] = ufos['date_time'].dt.year\n",
    "ufos.info()"
   ]
  },
  {
   "cell_type": "code",
   "execution_count": 139,
   "id": "668fcaa4",
   "metadata": {},
   "outputs": [
    {
     "data": {
      "image/png": "[encoded data removed]",
      "text/plain": [
       "<Figure size 432x288 with 1 Axes>"
      ]
     },
     "metadata": {
      "needs_background": "light"
     },
     "output_type": "display_data"
    }
   ],
   "source": [
    "ufos.year.value_counts().sort_index().plot()\n",
    "plt.show()"
   ]
  },
  {
   "cell_type": "code",
   "execution_count": null,
   "id": "91eeffde",
   "metadata": {},
   "outputs": [],
   "source": []
  },
  {
   "cell_type": "code",
   "execution_count": null,
   "id": "638bf4b5",
   "metadata": {},
   "outputs": [],
   "source": []
  },
  {
   "cell_type": "code",
   "execution_count": null,
   "id": "d901e69e",
   "metadata": {},
   "outputs": [],
   "source": []
  },
  {
   "cell_type": "code",
   "execution_count": null,
   "id": "e6ea45f2",
   "metadata": {},
   "outputs": [],
   "source": []
  },
  {
   "cell_type": "code",
   "execution_count": null,
   "id": "fdd566e7",
   "metadata": {},
   "outputs": [],
   "source": []
  },
  {
   "cell_type": "markdown",
   "id": "998f00ac",
   "metadata": {},
   "source": [
    "## Scatter Plots"
   ]
  },
  {
   "cell_type": "code",
   "execution_count": null,
   "id": "d83a01d1",
   "metadata": {},
   "outputs": [],
   "source": []
  },
  {
   "cell_type": "markdown",
   "id": "f90aa138",
   "metadata": {},
   "source": [
    "## Subplots"
   ]
  },
  {
   "cell_type": "markdown",
   "id": "02eb8068",
   "metadata": {},
   "source": [
    "## Manual Subplots"
   ]
  },
  {
   "cell_type": "markdown",
   "id": "02b119c0",
   "metadata": {},
   "source": [
    "## Savefig()"
   ]
  }
 ],
 "metadata": {
  "kernelspec": {
   "display_name": "Python 3",
   "language": "python",
   "name": "python3"
  },
  "language_info": {
   "codemirror_mode": {
    "name": "ipython",
    "version": 3
   },
   "file_extension": ".py",
   "mimetype": "text/x-python",
   "name": "python",
   "nbconvert_exporter": "python",
   "pygments_lexer": "ipython3",
   "version": "3.10.0"
  }
 },
 "nbformat": 4,
 "nbformat_minor": 5
}
