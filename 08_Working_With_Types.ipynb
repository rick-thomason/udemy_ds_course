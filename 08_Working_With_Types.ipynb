{
 "cells": [
  {
   "cell_type": "markdown",
   "id": "314ed3e3",
   "metadata": {},
   "source": [
    "# Working With Types\n",
    "## Casting Types & Missing Values"
   ]
  },
  {
   "cell_type": "code",
   "execution_count": 1,
   "id": "c32b9483",
   "metadata": {},
   "outputs": [],
   "source": [
    "import pandas as pd\n",
    "houses = pd.read_csv(\"data/kc_house_data.csv\")\n",
    "titanic = pd.read_csv(\"data/titanic.csv\")\n",
    "netflix = pd.read_csv(\"data/netflix_titles.csv\", sep=\"|\", index_col=0)\n",
    "btc = pd.read_csv(\"data/coin_Bitcoin.csv\")\n",
    "countries = pd.read_csv(\"data/world-happiness-report-2021.csv\")"
   ]
  },
  {
   "cell_type": "markdown",
   "id": "ab310722",
   "metadata": {},
   "source": [
    "## Casting With astype()"
   ]
  },
  {
   "cell_type": "code",
   "execution_count": 7,
   "id": "9e462210",
   "metadata": {},
   "outputs": [
    {
     "name": "stdout",
     "output_type": "stream",
     "text": [
      "<class 'pandas.core.frame.DataFrame'>\n",
      "RangeIndex: 1309 entries, 0 to 1308\n",
      "Data columns (total 14 columns):\n",
      " #   Column     Non-Null Count  Dtype \n",
      "---  ------     --------------  ----- \n",
      " 0   pclass     1309 non-null   int64 \n",
      " 1   survived   1309 non-null   int64 \n",
      " 2   name       1309 non-null   object\n",
      " 3   sex        1309 non-null   object\n",
      " 4   age        1309 non-null   object\n",
      " 5   sibsp      1309 non-null   int64 \n",
      " 6   parch      1309 non-null   int64 \n",
      " 7   ticket     1309 non-null   object\n",
      " 8   fare       1309 non-null   object\n",
      " 9   cabin      1309 non-null   object\n",
      " 10  embarked   1309 non-null   object\n",
      " 11  boat       1309 non-null   object\n",
      " 12  body       1309 non-null   object\n",
      " 13  home.dest  1309 non-null   object\n",
      "dtypes: int64(4), object(10)\n",
      "memory usage: 143.3+ KB\n"
     ]
    }
   ],
   "source": [
    "titanic.info()"
   ]
  },
  {
   "cell_type": "code",
   "execution_count": 11,
   "id": "74d86120",
   "metadata": {},
   "outputs": [],
   "source": [
    "titanic['age'].replace(['?'], [None], inplace=True)"
   ]
  },
  {
   "cell_type": "code",
   "execution_count": 12,
   "id": "c8d57b85",
   "metadata": {},
   "outputs": [
    {
     "data": {
      "text/plain": [
       "0       29.0000\n",
       "1        0.9167\n",
       "2        2.0000\n",
       "3       30.0000\n",
       "4       25.0000\n",
       "         ...   \n",
       "1304    14.5000\n",
       "1305        NaN\n",
       "1306    26.5000\n",
       "1307    27.0000\n",
       "1308    29.0000\n",
       "Name: age, Length: 1309, dtype: float64"
      ]
     },
     "execution_count": 12,
     "metadata": {},
     "output_type": "execute_result"
    }
   ],
   "source": [
    "titanic['age'].astype(\"float\")"
   ]
  },
  {
   "cell_type": "code",
   "execution_count": 15,
   "id": "65642071",
   "metadata": {},
   "outputs": [],
   "source": [
    "titanic['age'] = titanic['age'].astype(\"float\")"
   ]
  },
  {
   "cell_type": "code",
   "execution_count": 16,
   "id": "0ba14ade",
   "metadata": {},
   "outputs": [
    {
     "name": "stdout",
     "output_type": "stream",
     "text": [
      "<class 'pandas.core.frame.DataFrame'>\n",
      "RangeIndex: 1309 entries, 0 to 1308\n",
      "Data columns (total 14 columns):\n",
      " #   Column     Non-Null Count  Dtype  \n",
      "---  ------     --------------  -----  \n",
      " 0   pclass     1309 non-null   int64  \n",
      " 1   survived   1309 non-null   int64  \n",
      " 2   name       1309 non-null   object \n",
      " 3   sex        1309 non-null   object \n",
      " 4   age        1046 non-null   float64\n",
      " 5   sibsp      1309 non-null   int64  \n",
      " 6   parch      1309 non-null   int64  \n",
      " 7   ticket     1309 non-null   object \n",
      " 8   fare       1309 non-null   object \n",
      " 9   cabin      1309 non-null   object \n",
      " 10  embarked   1309 non-null   object \n",
      " 11  boat       1309 non-null   object \n",
      " 12  body       1309 non-null   object \n",
      " 13  home.dest  1309 non-null   object \n",
      "dtypes: float64(1), int64(4), object(9)\n",
      "memory usage: 143.3+ KB\n"
     ]
    }
   ],
   "source": [
    "titanic.info()"
   ]
  },
  {
   "cell_type": "code",
   "execution_count": 17,
   "id": "0b558851",
   "metadata": {},
   "outputs": [
    {
     "data": {
      "text/plain": [
       "0       female\n",
       "1         male\n",
       "2       female\n",
       "3         male\n",
       "4       female\n",
       "         ...  \n",
       "1304    female\n",
       "1305    female\n",
       "1306      male\n",
       "1307      male\n",
       "1308      male\n",
       "Name: sex, Length: 1309, dtype: category\n",
       "Categories (2, object): ['female', 'male']"
      ]
     },
     "execution_count": 17,
     "metadata": {},
     "output_type": "execute_result"
    }
   ],
   "source": [
    "titanic['sex'].astype('category')"
   ]
  },
  {
   "cell_type": "code",
   "execution_count": 19,
   "id": "07e1c833",
   "metadata": {},
   "outputs": [],
   "source": [
    "titanic.sex = titanic['sex'].astype('category')"
   ]
  },
  {
   "cell_type": "code",
   "execution_count": 20,
   "id": "a5a86ca9",
   "metadata": {},
   "outputs": [
    {
     "name": "stdout",
     "output_type": "stream",
     "text": [
      "<class 'pandas.core.frame.DataFrame'>\n",
      "RangeIndex: 1309 entries, 0 to 1308\n",
      "Data columns (total 14 columns):\n",
      " #   Column     Non-Null Count  Dtype   \n",
      "---  ------     --------------  -----   \n",
      " 0   pclass     1309 non-null   int64   \n",
      " 1   survived   1309 non-null   int64   \n",
      " 2   name       1309 non-null   object  \n",
      " 3   sex        1309 non-null   category\n",
      " 4   age        1046 non-null   float64 \n",
      " 5   sibsp      1309 non-null   int64   \n",
      " 6   parch      1309 non-null   int64   \n",
      " 7   ticket     1309 non-null   object  \n",
      " 8   fare       1309 non-null   object  \n",
      " 9   cabin      1309 non-null   object  \n",
      " 10  embarked   1309 non-null   object  \n",
      " 11  boat       1309 non-null   object  \n",
      " 12  body       1309 non-null   object  \n",
      " 13  home.dest  1309 non-null   object  \n",
      "dtypes: category(1), float64(1), int64(4), object(8)\n",
      "memory usage: 134.5+ KB\n"
     ]
    }
   ],
   "source": [
    "titanic.info()"
   ]
  },
  {
   "cell_type": "code",
   "execution_count": 21,
   "id": "6c3b90c7",
   "metadata": {},
   "outputs": [
    {
     "data": {
      "text/plain": [
       "0       S\n",
       "1       S\n",
       "2       S\n",
       "3       S\n",
       "4       S\n",
       "       ..\n",
       "1304    C\n",
       "1305    C\n",
       "1306    C\n",
       "1307    C\n",
       "1308    S\n",
       "Name: embarked, Length: 1309, dtype: category\n",
       "Categories (4, object): ['?', 'C', 'Q', 'S']"
      ]
     },
     "execution_count": 21,
     "metadata": {},
     "output_type": "execute_result"
    }
   ],
   "source": [
    "titanic.embarked.astype('category')"
   ]
  },
  {
   "cell_type": "code",
   "execution_count": 23,
   "id": "d1f9e38d",
   "metadata": {},
   "outputs": [],
   "source": [
    "titanic['embarked'] = titanic['embarked'].astype('category')"
   ]
  },
  {
   "cell_type": "code",
   "execution_count": 24,
   "id": "c2ba71db",
   "metadata": {},
   "outputs": [
    {
     "name": "stdout",
     "output_type": "stream",
     "text": [
      "<class 'pandas.core.frame.DataFrame'>\n",
      "RangeIndex: 1309 entries, 0 to 1308\n",
      "Data columns (total 14 columns):\n",
      " #   Column     Non-Null Count  Dtype   \n",
      "---  ------     --------------  -----   \n",
      " 0   pclass     1309 non-null   int64   \n",
      " 1   survived   1309 non-null   int64   \n",
      " 2   name       1309 non-null   object  \n",
      " 3   sex        1309 non-null   category\n",
      " 4   age        1046 non-null   float64 \n",
      " 5   sibsp      1309 non-null   int64   \n",
      " 6   parch      1309 non-null   int64   \n",
      " 7   ticket     1309 non-null   object  \n",
      " 8   fare       1309 non-null   object  \n",
      " 9   cabin      1309 non-null   object  \n",
      " 10  embarked   1309 non-null   category\n",
      " 11  boat       1309 non-null   object  \n",
      " 12  body       1309 non-null   object  \n",
      " 13  home.dest  1309 non-null   object  \n",
      "dtypes: category(2), float64(1), int64(4), object(7)\n",
      "memory usage: 125.7+ KB\n"
     ]
    }
   ],
   "source": [
    "titanic.info()"
   ]
  },
  {
   "cell_type": "code",
   "execution_count": 25,
   "id": "6faf7573",
   "metadata": {},
   "outputs": [
    {
     "name": "stdout",
     "output_type": "stream",
     "text": [
      "<class 'pandas.core.frame.DataFrame'>\n",
      "RangeIndex: 1309 entries, 0 to 1308\n",
      "Data columns (total 14 columns):\n",
      " #   Column     Non-Null Count  Dtype \n",
      "---  ------     --------------  ----- \n",
      " 0   pclass     1309 non-null   int64 \n",
      " 1   survived   1309 non-null   int64 \n",
      " 2   name       1309 non-null   object\n",
      " 3   sex        1309 non-null   object\n",
      " 4   age        1309 non-null   object\n",
      " 5   sibsp      1309 non-null   int64 \n",
      " 6   parch      1309 non-null   int64 \n",
      " 7   ticket     1309 non-null   object\n",
      " 8   fare       1309 non-null   object\n",
      " 9   cabin      1309 non-null   object\n",
      " 10  embarked   1309 non-null   object\n",
      " 11  boat       1309 non-null   object\n",
      " 12  body       1309 non-null   object\n",
      " 13  home.dest  1309 non-null   object\n",
      "dtypes: int64(4), object(10)\n",
      "memory usage: 143.3+ KB\n"
     ]
    }
   ],
   "source": [
    "titanic = pd.read_csv('data/titanic.csv')\n",
    "titanic.info()"
   ]
  },
  {
   "cell_type": "code",
   "execution_count": 27,
   "id": "55f7c0cb",
   "metadata": {},
   "outputs": [
    {
     "data": {
      "text/plain": [
       "0       29.0000\n",
       "1        0.9167\n",
       "2        2.0000\n",
       "3       30.0000\n",
       "4       25.0000\n",
       "         ...   \n",
       "1304    14.5000\n",
       "1305        NaN\n",
       "1306    26.5000\n",
       "1307    27.0000\n",
       "1308    29.0000\n",
       "Name: age, Length: 1309, dtype: float64"
      ]
     },
     "execution_count": 27,
     "metadata": {},
     "output_type": "execute_result"
    }
   ],
   "source": [
    "pd.to_numeric(titanic['age'], errors='coerce')"
   ]
  },
  {
   "cell_type": "code",
   "execution_count": 30,
   "id": "985deb95",
   "metadata": {},
   "outputs": [],
   "source": [
    "titanic.age = pd.to_numeric(titanic['age'], errors='coerce')"
   ]
  },
  {
   "cell_type": "code",
   "execution_count": 31,
   "id": "15829e1c",
   "metadata": {},
   "outputs": [
    {
     "name": "stdout",
     "output_type": "stream",
     "text": [
      "<class 'pandas.core.frame.DataFrame'>\n",
      "RangeIndex: 1309 entries, 0 to 1308\n",
      "Data columns (total 14 columns):\n",
      " #   Column     Non-Null Count  Dtype  \n",
      "---  ------     --------------  -----  \n",
      " 0   pclass     1309 non-null   int64  \n",
      " 1   survived   1309 non-null   int64  \n",
      " 2   name       1309 non-null   object \n",
      " 3   sex        1309 non-null   object \n",
      " 4   age        1046 non-null   float64\n",
      " 5   sibsp      1309 non-null   int64  \n",
      " 6   parch      1309 non-null   int64  \n",
      " 7   ticket     1309 non-null   object \n",
      " 8   fare       1309 non-null   object \n",
      " 9   cabin      1309 non-null   object \n",
      " 10  embarked   1309 non-null   object \n",
      " 11  boat       1309 non-null   object \n",
      " 12  body       1309 non-null   object \n",
      " 13  home.dest  1309 non-null   object \n",
      "dtypes: float64(1), int64(4), object(9)\n",
      "memory usage: 143.3+ KB\n"
     ]
    }
   ],
   "source": [
    "titanic.info()"
   ]
  },
  {
   "cell_type": "code",
   "execution_count": 32,
   "id": "e8a0ca78",
   "metadata": {},
   "outputs": [],
   "source": [
    "stats = pd.read_csv('data/game_stats.csv')"
   ]
  },
  {
   "cell_type": "code",
   "execution_count": 33,
   "id": "1c738d3c",
   "metadata": {},
   "outputs": [
    {
     "name": "stdout",
     "output_type": "stream",
     "text": [
      "<class 'pandas.core.frame.DataFrame'>\n",
      "RangeIndex: 7 entries, 0 to 6\n",
      "Data columns (total 5 columns):\n",
      " #   Column    Non-Null Count  Dtype  \n",
      "---  ------    --------------  -----  \n",
      " 0   name      6 non-null      object \n",
      " 1   league    4 non-null      object \n",
      " 2   points    5 non-null      float64\n",
      " 3   assists   2 non-null      float64\n",
      " 4   rebounds  4 non-null      float64\n",
      "dtypes: float64(3), object(2)\n",
      "memory usage: 408.0+ bytes\n"
     ]
    }
   ],
   "source": [
    "stats.info()"
   ]
  },
  {
   "cell_type": "code",
   "execution_count": 34,
   "id": "deb53432",
   "metadata": {},
   "outputs": [
    {
     "data": {
      "text/html": [
       "<div>\n",
       "<style scoped>\n",
       "    .dataframe tbody tr th:only-of-type {\n",
       "        vertical-align: middle;\n",
       "    }\n",
       "\n",
       "    .dataframe tbody tr th {\n",
       "        vertical-align: top;\n",
       "    }\n",
       "\n",
       "    .dataframe thead th {\n",
       "        text-align: right;\n",
       "    }\n",
       "</style>\n",
       "<table border=\"1\" class=\"dataframe\">\n",
       "  <thead>\n",
       "    <tr style=\"text-align: right;\">\n",
       "      <th></th>\n",
       "      <th>name</th>\n",
       "      <th>league</th>\n",
       "      <th>points</th>\n",
       "      <th>assists</th>\n",
       "      <th>rebounds</th>\n",
       "    </tr>\n",
       "  </thead>\n",
       "  <tbody>\n",
       "    <tr>\n",
       "      <th>0</th>\n",
       "      <td>bob</td>\n",
       "      <td>nba</td>\n",
       "      <td>22.0</td>\n",
       "      <td>5.0</td>\n",
       "      <td>10.0</td>\n",
       "    </tr>\n",
       "    <tr>\n",
       "      <th>1</th>\n",
       "      <td>jessie</td>\n",
       "      <td>NaN</td>\n",
       "      <td>10.0</td>\n",
       "      <td>NaN</td>\n",
       "      <td>2.0</td>\n",
       "    </tr>\n",
       "    <tr>\n",
       "      <th>2</th>\n",
       "      <td>stu</td>\n",
       "      <td>euroleague</td>\n",
       "      <td>NaN</td>\n",
       "      <td>NaN</td>\n",
       "      <td>NaN</td>\n",
       "    </tr>\n",
       "    <tr>\n",
       "      <th>3</th>\n",
       "      <td>jackson</td>\n",
       "      <td>aba</td>\n",
       "      <td>9.0</td>\n",
       "      <td>NaN</td>\n",
       "      <td>2.0</td>\n",
       "    </tr>\n",
       "    <tr>\n",
       "      <th>4</th>\n",
       "      <td>timothee</td>\n",
       "      <td>NaN</td>\n",
       "      <td>8.0</td>\n",
       "      <td>NaN</td>\n",
       "      <td>NaN</td>\n",
       "    </tr>\n",
       "    <tr>\n",
       "      <th>5</th>\n",
       "      <td>steph</td>\n",
       "      <td>nba</td>\n",
       "      <td>49.0</td>\n",
       "      <td>8.0</td>\n",
       "      <td>10.0</td>\n",
       "    </tr>\n",
       "    <tr>\n",
       "      <th>6</th>\n",
       "      <td>NaN</td>\n",
       "      <td>NaN</td>\n",
       "      <td>NaN</td>\n",
       "      <td>NaN</td>\n",
       "      <td>NaN</td>\n",
       "    </tr>\n",
       "  </tbody>\n",
       "</table>\n",
       "</div>"
      ],
      "text/plain": [
       "       name      league  points  assists  rebounds\n",
       "0       bob         nba    22.0      5.0      10.0\n",
       "1    jessie         NaN    10.0      NaN       2.0\n",
       "2       stu  euroleague     NaN      NaN       NaN\n",
       "3   jackson         aba     9.0      NaN       2.0\n",
       "4  timothee         NaN     8.0      NaN       NaN\n",
       "5     steph         nba    49.0      8.0      10.0\n",
       "6       NaN         NaN     NaN      NaN       NaN"
      ]
     },
     "execution_count": 34,
     "metadata": {},
     "output_type": "execute_result"
    }
   ],
   "source": [
    "stats"
   ]
  },
  {
   "cell_type": "code",
   "execution_count": 35,
   "id": "a508d826",
   "metadata": {},
   "outputs": [
    {
     "data": {
      "text/html": [
       "<div>\n",
       "<style scoped>\n",
       "    .dataframe tbody tr th:only-of-type {\n",
       "        vertical-align: middle;\n",
       "    }\n",
       "\n",
       "    .dataframe tbody tr th {\n",
       "        vertical-align: top;\n",
       "    }\n",
       "\n",
       "    .dataframe thead th {\n",
       "        text-align: right;\n",
       "    }\n",
       "</style>\n",
       "<table border=\"1\" class=\"dataframe\">\n",
       "  <thead>\n",
       "    <tr style=\"text-align: right;\">\n",
       "      <th></th>\n",
       "      <th>name</th>\n",
       "      <th>league</th>\n",
       "      <th>points</th>\n",
       "      <th>assists</th>\n",
       "      <th>rebounds</th>\n",
       "    </tr>\n",
       "  </thead>\n",
       "  <tbody>\n",
       "    <tr>\n",
       "      <th>0</th>\n",
       "      <td>False</td>\n",
       "      <td>False</td>\n",
       "      <td>False</td>\n",
       "      <td>False</td>\n",
       "      <td>False</td>\n",
       "    </tr>\n",
       "    <tr>\n",
       "      <th>1</th>\n",
       "      <td>False</td>\n",
       "      <td>True</td>\n",
       "      <td>False</td>\n",
       "      <td>True</td>\n",
       "      <td>False</td>\n",
       "    </tr>\n",
       "    <tr>\n",
       "      <th>2</th>\n",
       "      <td>False</td>\n",
       "      <td>False</td>\n",
       "      <td>True</td>\n",
       "      <td>True</td>\n",
       "      <td>True</td>\n",
       "    </tr>\n",
       "    <tr>\n",
       "      <th>3</th>\n",
       "      <td>False</td>\n",
       "      <td>False</td>\n",
       "      <td>False</td>\n",
       "      <td>True</td>\n",
       "      <td>False</td>\n",
       "    </tr>\n",
       "    <tr>\n",
       "      <th>4</th>\n",
       "      <td>False</td>\n",
       "      <td>True</td>\n",
       "      <td>False</td>\n",
       "      <td>True</td>\n",
       "      <td>True</td>\n",
       "    </tr>\n",
       "    <tr>\n",
       "      <th>5</th>\n",
       "      <td>False</td>\n",
       "      <td>False</td>\n",
       "      <td>False</td>\n",
       "      <td>False</td>\n",
       "      <td>False</td>\n",
       "    </tr>\n",
       "    <tr>\n",
       "      <th>6</th>\n",
       "      <td>True</td>\n",
       "      <td>True</td>\n",
       "      <td>True</td>\n",
       "      <td>True</td>\n",
       "      <td>True</td>\n",
       "    </tr>\n",
       "  </tbody>\n",
       "</table>\n",
       "</div>"
      ],
      "text/plain": [
       "    name  league  points  assists  rebounds\n",
       "0  False   False   False    False     False\n",
       "1  False    True   False     True     False\n",
       "2  False   False    True     True      True\n",
       "3  False   False   False     True     False\n",
       "4  False    True   False     True      True\n",
       "5  False   False   False    False     False\n",
       "6   True    True    True     True      True"
      ]
     },
     "execution_count": 35,
     "metadata": {},
     "output_type": "execute_result"
    }
   ],
   "source": [
    "stats.isna()"
   ]
  },
  {
   "cell_type": "code",
   "execution_count": 36,
   "id": "04d05ec3",
   "metadata": {},
   "outputs": [
    {
     "data": {
      "text/plain": [
       "0    False\n",
       "1     True\n",
       "2    False\n",
       "3    False\n",
       "4     True\n",
       "5    False\n",
       "6     True\n",
       "Name: league, dtype: bool"
      ]
     },
     "execution_count": 36,
     "metadata": {},
     "output_type": "execute_result"
    }
   ],
   "source": [
    "stats['league'].isna()"
   ]
  },
  {
   "cell_type": "code",
   "execution_count": 37,
   "id": "a4690e96",
   "metadata": {},
   "outputs": [
    {
     "data": {
      "text/html": [
       "<div>\n",
       "<style scoped>\n",
       "    .dataframe tbody tr th:only-of-type {\n",
       "        vertical-align: middle;\n",
       "    }\n",
       "\n",
       "    .dataframe tbody tr th {\n",
       "        vertical-align: top;\n",
       "    }\n",
       "\n",
       "    .dataframe thead th {\n",
       "        text-align: right;\n",
       "    }\n",
       "</style>\n",
       "<table border=\"1\" class=\"dataframe\">\n",
       "  <thead>\n",
       "    <tr style=\"text-align: right;\">\n",
       "      <th></th>\n",
       "      <th>name</th>\n",
       "      <th>league</th>\n",
       "      <th>points</th>\n",
       "      <th>assists</th>\n",
       "      <th>rebounds</th>\n",
       "    </tr>\n",
       "  </thead>\n",
       "  <tbody>\n",
       "    <tr>\n",
       "      <th>1</th>\n",
       "      <td>jessie</td>\n",
       "      <td>NaN</td>\n",
       "      <td>10.0</td>\n",
       "      <td>NaN</td>\n",
       "      <td>2.0</td>\n",
       "    </tr>\n",
       "    <tr>\n",
       "      <th>4</th>\n",
       "      <td>timothee</td>\n",
       "      <td>NaN</td>\n",
       "      <td>8.0</td>\n",
       "      <td>NaN</td>\n",
       "      <td>NaN</td>\n",
       "    </tr>\n",
       "    <tr>\n",
       "      <th>6</th>\n",
       "      <td>NaN</td>\n",
       "      <td>NaN</td>\n",
       "      <td>NaN</td>\n",
       "      <td>NaN</td>\n",
       "      <td>NaN</td>\n",
       "    </tr>\n",
       "  </tbody>\n",
       "</table>\n",
       "</div>"
      ],
      "text/plain": [
       "       name league  points  assists  rebounds\n",
       "1    jessie    NaN    10.0      NaN       2.0\n",
       "4  timothee    NaN     8.0      NaN       NaN\n",
       "6       NaN    NaN     NaN      NaN       NaN"
      ]
     },
     "execution_count": 37,
     "metadata": {},
     "output_type": "execute_result"
    }
   ],
   "source": [
    "stats[stats['league'].isna()]"
   ]
  },
  {
   "cell_type": "code",
   "execution_count": 39,
   "id": "035a3611",
   "metadata": {},
   "outputs": [
    {
     "data": {
      "text/plain": [
       "0    5.0\n",
       "5    8.0\n",
       "Name: assists, dtype: float64"
      ]
     },
     "execution_count": 39,
     "metadata": {},
     "output_type": "execute_result"
    }
   ],
   "source": [
    "stats['assists'].dropna()"
   ]
  },
  {
   "cell_type": "code",
   "execution_count": 43,
   "id": "42152810",
   "metadata": {},
   "outputs": [
    {
     "data": {
      "text/html": [
       "<div>\n",
       "<style scoped>\n",
       "    .dataframe tbody tr th:only-of-type {\n",
       "        vertical-align: middle;\n",
       "    }\n",
       "\n",
       "    .dataframe tbody tr th {\n",
       "        vertical-align: top;\n",
       "    }\n",
       "\n",
       "    .dataframe thead th {\n",
       "        text-align: right;\n",
       "    }\n",
       "</style>\n",
       "<table border=\"1\" class=\"dataframe\">\n",
       "  <thead>\n",
       "    <tr style=\"text-align: right;\">\n",
       "      <th></th>\n",
       "      <th>name</th>\n",
       "      <th>league</th>\n",
       "      <th>points</th>\n",
       "      <th>assists</th>\n",
       "      <th>rebounds</th>\n",
       "    </tr>\n",
       "  </thead>\n",
       "  <tbody>\n",
       "    <tr>\n",
       "      <th>0</th>\n",
       "      <td>bob</td>\n",
       "      <td>nba</td>\n",
       "      <td>22.0</td>\n",
       "      <td>5.0</td>\n",
       "      <td>10.0</td>\n",
       "    </tr>\n",
       "    <tr>\n",
       "      <th>5</th>\n",
       "      <td>steph</td>\n",
       "      <td>nba</td>\n",
       "      <td>49.0</td>\n",
       "      <td>8.0</td>\n",
       "      <td>10.0</td>\n",
       "    </tr>\n",
       "  </tbody>\n",
       "</table>\n",
       "</div>"
      ],
      "text/plain": [
       "    name league  points  assists  rebounds\n",
       "0    bob    nba    22.0      5.0      10.0\n",
       "5  steph    nba    49.0      8.0      10.0"
      ]
     },
     "execution_count": 43,
     "metadata": {},
     "output_type": "execute_result"
    }
   ],
   "source": [
    "no_na_values = stats.dropna()\n",
    "no_na_values"
   ]
  },
  {
   "cell_type": "code",
   "execution_count": 50,
   "id": "662efa94",
   "metadata": {},
   "outputs": [],
   "source": [
    "stats.dropna(how='all', inplace=True)"
   ]
  },
  {
   "cell_type": "code",
   "execution_count": 48,
   "id": "ee7ca484",
   "metadata": {},
   "outputs": [
    {
     "data": {
      "text/html": [
       "<div>\n",
       "<style scoped>\n",
       "    .dataframe tbody tr th:only-of-type {\n",
       "        vertical-align: middle;\n",
       "    }\n",
       "\n",
       "    .dataframe tbody tr th {\n",
       "        vertical-align: top;\n",
       "    }\n",
       "\n",
       "    .dataframe thead th {\n",
       "        text-align: right;\n",
       "    }\n",
       "</style>\n",
       "<table border=\"1\" class=\"dataframe\">\n",
       "  <thead>\n",
       "    <tr style=\"text-align: right;\">\n",
       "      <th></th>\n",
       "      <th>name</th>\n",
       "      <th>league</th>\n",
       "      <th>points</th>\n",
       "      <th>assists</th>\n",
       "      <th>rebounds</th>\n",
       "    </tr>\n",
       "  </thead>\n",
       "  <tbody>\n",
       "    <tr>\n",
       "      <th>0</th>\n",
       "      <td>bob</td>\n",
       "      <td>nba</td>\n",
       "      <td>22.0</td>\n",
       "      <td>5.0</td>\n",
       "      <td>10.0</td>\n",
       "    </tr>\n",
       "    <tr>\n",
       "      <th>2</th>\n",
       "      <td>stu</td>\n",
       "      <td>euroleague</td>\n",
       "      <td>NaN</td>\n",
       "      <td>NaN</td>\n",
       "      <td>NaN</td>\n",
       "    </tr>\n",
       "    <tr>\n",
       "      <th>3</th>\n",
       "      <td>jackson</td>\n",
       "      <td>aba</td>\n",
       "      <td>9.0</td>\n",
       "      <td>NaN</td>\n",
       "      <td>2.0</td>\n",
       "    </tr>\n",
       "    <tr>\n",
       "      <th>5</th>\n",
       "      <td>steph</td>\n",
       "      <td>nba</td>\n",
       "      <td>49.0</td>\n",
       "      <td>8.0</td>\n",
       "      <td>10.0</td>\n",
       "    </tr>\n",
       "  </tbody>\n",
       "</table>\n",
       "</div>"
      ],
      "text/plain": [
       "      name      league  points  assists  rebounds\n",
       "0      bob         nba    22.0      5.0      10.0\n",
       "2      stu  euroleague     NaN      NaN       NaN\n",
       "3  jackson         aba     9.0      NaN       2.0\n",
       "5    steph         nba    49.0      8.0      10.0"
      ]
     },
     "execution_count": 48,
     "metadata": {},
     "output_type": "execute_result"
    }
   ],
   "source": [
    "stats.dropna(subset=['league'])"
   ]
  },
  {
   "cell_type": "code",
   "execution_count": 59,
   "id": "ffd5363d",
   "metadata": {},
   "outputs": [],
   "source": [
    "stats['rebounds'] = stats['rebounds'].fillna(0)"
   ]
  },
  {
   "cell_type": "code",
   "execution_count": 60,
   "id": "857409cf",
   "metadata": {},
   "outputs": [
    {
     "data": {
      "text/html": [
       "<div>\n",
       "<style scoped>\n",
       "    .dataframe tbody tr th:only-of-type {\n",
       "        vertical-align: middle;\n",
       "    }\n",
       "\n",
       "    .dataframe tbody tr th {\n",
       "        vertical-align: top;\n",
       "    }\n",
       "\n",
       "    .dataframe thead th {\n",
       "        text-align: right;\n",
       "    }\n",
       "</style>\n",
       "<table border=\"1\" class=\"dataframe\">\n",
       "  <thead>\n",
       "    <tr style=\"text-align: right;\">\n",
       "      <th></th>\n",
       "      <th>name</th>\n",
       "      <th>league</th>\n",
       "      <th>points</th>\n",
       "      <th>assists</th>\n",
       "      <th>rebounds</th>\n",
       "    </tr>\n",
       "  </thead>\n",
       "  <tbody>\n",
       "    <tr>\n",
       "      <th>0</th>\n",
       "      <td>bob</td>\n",
       "      <td>nba</td>\n",
       "      <td>22.0</td>\n",
       "      <td>5.0</td>\n",
       "      <td>10.0</td>\n",
       "    </tr>\n",
       "    <tr>\n",
       "      <th>1</th>\n",
       "      <td>jessie</td>\n",
       "      <td>NaN</td>\n",
       "      <td>10.0</td>\n",
       "      <td>NaN</td>\n",
       "      <td>2.0</td>\n",
       "    </tr>\n",
       "    <tr>\n",
       "      <th>2</th>\n",
       "      <td>stu</td>\n",
       "      <td>euroleague</td>\n",
       "      <td>NaN</td>\n",
       "      <td>NaN</td>\n",
       "      <td>0.0</td>\n",
       "    </tr>\n",
       "    <tr>\n",
       "      <th>3</th>\n",
       "      <td>jackson</td>\n",
       "      <td>aba</td>\n",
       "      <td>9.0</td>\n",
       "      <td>NaN</td>\n",
       "      <td>2.0</td>\n",
       "    </tr>\n",
       "    <tr>\n",
       "      <th>4</th>\n",
       "      <td>timothee</td>\n",
       "      <td>NaN</td>\n",
       "      <td>8.0</td>\n",
       "      <td>NaN</td>\n",
       "      <td>0.0</td>\n",
       "    </tr>\n",
       "    <tr>\n",
       "      <th>5</th>\n",
       "      <td>steph</td>\n",
       "      <td>nba</td>\n",
       "      <td>49.0</td>\n",
       "      <td>8.0</td>\n",
       "      <td>10.0</td>\n",
       "    </tr>\n",
       "  </tbody>\n",
       "</table>\n",
       "</div>"
      ],
      "text/plain": [
       "       name      league  points  assists  rebounds\n",
       "0       bob         nba    22.0      5.0      10.0\n",
       "1    jessie         NaN    10.0      NaN       2.0\n",
       "2       stu  euroleague     NaN      NaN       0.0\n",
       "3   jackson         aba     9.0      NaN       2.0\n",
       "4  timothee         NaN     8.0      NaN       0.0\n",
       "5     steph         nba    49.0      8.0      10.0"
      ]
     },
     "execution_count": 60,
     "metadata": {},
     "output_type": "execute_result"
    }
   ],
   "source": [
    "stats"
   ]
  },
  {
   "cell_type": "code",
   "execution_count": 62,
   "id": "cab6e7c2",
   "metadata": {},
   "outputs": [],
   "source": [
    "stats['league'].fillna('amateur',inplace=True)"
   ]
  },
  {
   "cell_type": "code",
   "execution_count": 65,
   "id": "b8086128",
   "metadata": {},
   "outputs": [
    {
     "data": {
      "text/html": [
       "<div>\n",
       "<style scoped>\n",
       "    .dataframe tbody tr th:only-of-type {\n",
       "        vertical-align: middle;\n",
       "    }\n",
       "\n",
       "    .dataframe tbody tr th {\n",
       "        vertical-align: top;\n",
       "    }\n",
       "\n",
       "    .dataframe thead th {\n",
       "        text-align: right;\n",
       "    }\n",
       "</style>\n",
       "<table border=\"1\" class=\"dataframe\">\n",
       "  <thead>\n",
       "    <tr style=\"text-align: right;\">\n",
       "      <th></th>\n",
       "      <th>name</th>\n",
       "      <th>league</th>\n",
       "      <th>points</th>\n",
       "      <th>assists</th>\n",
       "      <th>rebounds</th>\n",
       "    </tr>\n",
       "  </thead>\n",
       "  <tbody>\n",
       "    <tr>\n",
       "      <th>0</th>\n",
       "      <td>bob</td>\n",
       "      <td>nba</td>\n",
       "      <td>22.0</td>\n",
       "      <td>5.0</td>\n",
       "      <td>10.0</td>\n",
       "    </tr>\n",
       "    <tr>\n",
       "      <th>1</th>\n",
       "      <td>jessie</td>\n",
       "      <td>amateur</td>\n",
       "      <td>10.0</td>\n",
       "      <td>0.0</td>\n",
       "      <td>2.0</td>\n",
       "    </tr>\n",
       "    <tr>\n",
       "      <th>2</th>\n",
       "      <td>stu</td>\n",
       "      <td>euroleague</td>\n",
       "      <td>0.0</td>\n",
       "      <td>0.0</td>\n",
       "      <td>0.0</td>\n",
       "    </tr>\n",
       "    <tr>\n",
       "      <th>3</th>\n",
       "      <td>jackson</td>\n",
       "      <td>aba</td>\n",
       "      <td>9.0</td>\n",
       "      <td>0.0</td>\n",
       "      <td>2.0</td>\n",
       "    </tr>\n",
       "    <tr>\n",
       "      <th>4</th>\n",
       "      <td>timothee</td>\n",
       "      <td>amateur</td>\n",
       "      <td>8.0</td>\n",
       "      <td>0.0</td>\n",
       "      <td>0.0</td>\n",
       "    </tr>\n",
       "    <tr>\n",
       "      <th>5</th>\n",
       "      <td>steph</td>\n",
       "      <td>nba</td>\n",
       "      <td>49.0</td>\n",
       "      <td>8.0</td>\n",
       "      <td>10.0</td>\n",
       "    </tr>\n",
       "  </tbody>\n",
       "</table>\n",
       "</div>"
      ],
      "text/plain": [
       "       name      league  points  assists  rebounds\n",
       "0       bob         nba    22.0      5.0      10.0\n",
       "1    jessie     amateur    10.0      0.0       2.0\n",
       "2       stu  euroleague     0.0      0.0       0.0\n",
       "3   jackson         aba     9.0      0.0       2.0\n",
       "4  timothee     amateur     8.0      0.0       0.0\n",
       "5     steph         nba    49.0      8.0      10.0"
      ]
     },
     "execution_count": 65,
     "metadata": {},
     "output_type": "execute_result"
    }
   ],
   "source": [
    "stats.fillna(0)"
   ]
  },
  {
   "cell_type": "code",
   "execution_count": 66,
   "id": "5f12ebe3",
   "metadata": {},
   "outputs": [],
   "source": [
    "sales = pd.read_csv('data/sales.csv')"
   ]
  },
  {
   "cell_type": "code",
   "execution_count": 67,
   "id": "9bc24825",
   "metadata": {},
   "outputs": [
    {
     "data": {
      "text/html": [
       "<div>\n",
       "<style scoped>\n",
       "    .dataframe tbody tr th:only-of-type {\n",
       "        vertical-align: middle;\n",
       "    }\n",
       "\n",
       "    .dataframe tbody tr th {\n",
       "        vertical-align: top;\n",
       "    }\n",
       "\n",
       "    .dataframe thead th {\n",
       "        text-align: right;\n",
       "    }\n",
       "</style>\n",
       "<table border=\"1\" class=\"dataframe\">\n",
       "  <thead>\n",
       "    <tr style=\"text-align: right;\">\n",
       "      <th></th>\n",
       "      <th>rating</th>\n",
       "      <th>shipping_zip</th>\n",
       "      <th>billing_zip</th>\n",
       "    </tr>\n",
       "  </thead>\n",
       "  <tbody>\n",
       "    <tr>\n",
       "      <th>0</th>\n",
       "      <td>5.0</td>\n",
       "      <td>NaN</td>\n",
       "      <td>81220.0</td>\n",
       "    </tr>\n",
       "    <tr>\n",
       "      <th>1</th>\n",
       "      <td>4.5</td>\n",
       "      <td>94931.0</td>\n",
       "      <td>94931.0</td>\n",
       "    </tr>\n",
       "    <tr>\n",
       "      <th>2</th>\n",
       "      <td>NaN</td>\n",
       "      <td>92625.0</td>\n",
       "      <td>92625.0</td>\n",
       "    </tr>\n",
       "    <tr>\n",
       "      <th>3</th>\n",
       "      <td>4.5</td>\n",
       "      <td>10003.0</td>\n",
       "      <td>10003.0</td>\n",
       "    </tr>\n",
       "    <tr>\n",
       "      <th>4</th>\n",
       "      <td>4.0</td>\n",
       "      <td>NaN</td>\n",
       "      <td>92660.0</td>\n",
       "    </tr>\n",
       "    <tr>\n",
       "      <th>5</th>\n",
       "      <td>NaN</td>\n",
       "      <td>NaN</td>\n",
       "      <td>NaN</td>\n",
       "    </tr>\n",
       "    <tr>\n",
       "      <th>6</th>\n",
       "      <td>NaN</td>\n",
       "      <td>60007.0</td>\n",
       "      <td>60007.0</td>\n",
       "    </tr>\n",
       "  </tbody>\n",
       "</table>\n",
       "</div>"
      ],
      "text/plain": [
       "   rating  shipping_zip  billing_zip\n",
       "0     5.0           NaN      81220.0\n",
       "1     4.5       94931.0      94931.0\n",
       "2     NaN       92625.0      92625.0\n",
       "3     4.5       10003.0      10003.0\n",
       "4     4.0           NaN      92660.0\n",
       "5     NaN           NaN          NaN\n",
       "6     NaN       60007.0      60007.0"
      ]
     },
     "execution_count": 67,
     "metadata": {},
     "output_type": "execute_result"
    }
   ],
   "source": [
    "sales"
   ]
  },
  {
   "cell_type": "code",
   "execution_count": 69,
   "id": "2d351d0d",
   "metadata": {},
   "outputs": [],
   "source": [
    "sales['shipping_zip'].fillna(sales['billing_zip'], inplace=True)"
   ]
  },
  {
   "cell_type": "code",
   "execution_count": 73,
   "id": "c9151003",
   "metadata": {},
   "outputs": [],
   "source": [
    "sales.dropna(how='all', inplace=True)"
   ]
  },
  {
   "cell_type": "code",
   "execution_count": 74,
   "id": "dd78aedf",
   "metadata": {},
   "outputs": [
    {
     "data": {
      "text/html": [
       "<div>\n",
       "<style scoped>\n",
       "    .dataframe tbody tr th:only-of-type {\n",
       "        vertical-align: middle;\n",
       "    }\n",
       "\n",
       "    .dataframe tbody tr th {\n",
       "        vertical-align: top;\n",
       "    }\n",
       "\n",
       "    .dataframe thead th {\n",
       "        text-align: right;\n",
       "    }\n",
       "</style>\n",
       "<table border=\"1\" class=\"dataframe\">\n",
       "  <thead>\n",
       "    <tr style=\"text-align: right;\">\n",
       "      <th></th>\n",
       "      <th>rating</th>\n",
       "      <th>shipping_zip</th>\n",
       "      <th>billing_zip</th>\n",
       "    </tr>\n",
       "  </thead>\n",
       "  <tbody>\n",
       "    <tr>\n",
       "      <th>0</th>\n",
       "      <td>5.0</td>\n",
       "      <td>81220.0</td>\n",
       "      <td>81220.0</td>\n",
       "    </tr>\n",
       "    <tr>\n",
       "      <th>1</th>\n",
       "      <td>4.5</td>\n",
       "      <td>94931.0</td>\n",
       "      <td>94931.0</td>\n",
       "    </tr>\n",
       "    <tr>\n",
       "      <th>2</th>\n",
       "      <td>NaN</td>\n",
       "      <td>92625.0</td>\n",
       "      <td>92625.0</td>\n",
       "    </tr>\n",
       "    <tr>\n",
       "      <th>3</th>\n",
       "      <td>4.5</td>\n",
       "      <td>10003.0</td>\n",
       "      <td>10003.0</td>\n",
       "    </tr>\n",
       "    <tr>\n",
       "      <th>4</th>\n",
       "      <td>4.0</td>\n",
       "      <td>92660.0</td>\n",
       "      <td>92660.0</td>\n",
       "    </tr>\n",
       "    <tr>\n",
       "      <th>6</th>\n",
       "      <td>NaN</td>\n",
       "      <td>60007.0</td>\n",
       "      <td>60007.0</td>\n",
       "    </tr>\n",
       "  </tbody>\n",
       "</table>\n",
       "</div>"
      ],
      "text/plain": [
       "   rating  shipping_zip  billing_zip\n",
       "0     5.0       81220.0      81220.0\n",
       "1     4.5       94931.0      94931.0\n",
       "2     NaN       92625.0      92625.0\n",
       "3     4.5       10003.0      10003.0\n",
       "4     4.0       92660.0      92660.0\n",
       "6     NaN       60007.0      60007.0"
      ]
     },
     "execution_count": 74,
     "metadata": {},
     "output_type": "execute_result"
    }
   ],
   "source": [
    "sales"
   ]
  },
  {
   "cell_type": "code",
   "execution_count": null,
   "id": "4fee2b41",
   "metadata": {},
   "outputs": [],
   "source": []
  }
 ],
 "metadata": {
  "kernelspec": {
   "display_name": "Python 3",
   "language": "python",
   "name": "python3"
  },
  "language_info": {
   "codemirror_mode": {
    "name": "ipython",
    "version": 3
   },
   "file_extension": ".py",
   "mimetype": "text/x-python",
   "name": "python",
   "nbconvert_exporter": "python",
   "pygments_lexer": "ipython3",
   "version": "3.10.0"
  }
 },
 "nbformat": 4,
 "nbformat_minor": 5
}
